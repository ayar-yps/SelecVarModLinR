{
 "cells": [
  {
   "cell_type": "markdown",
   "metadata": {},
   "source": [
    "# SELECCIÓN DE VARIABLES EN MODELOS LINEALES\n",
    "__Club de Ciencia de datos__\n",
    "\n",
    "__Por:__ _Ayar Yuman Paco Sanizo_\n",
    "\n",
    "La Paz, Bolivia 18 de Abril de 2018\n",
    "\n",
    "______________________________________\n",
    "\n",
    "A continuación se describen algunos métodos para seleccionar variables en modelos lineales. Sin embargo primero se inicia con un tratamiento de los datos de entrada."
   ]
  },
  {
   "cell_type": "markdown",
   "metadata": {},
   "source": [
    "# 1. Preparación de datos"
   ]
  },
  {
   "cell_type": "code",
   "execution_count": 66,
   "metadata": {},
   "outputs": [
    {
     "name": "stdout",
     "output_type": "stream",
     "text": [
      "package 'glmnet' successfully unpacked and MD5 sums checked\n",
      "\n",
      "The downloaded binary packages are in\n",
      "\tC:\\Users\\AYAR\\AppData\\Local\\Temp\\Rtmpcfrmke\\downloaded_packages\n"
     ]
    }
   ],
   "source": [
    "# Primero... instalar paquetes faltantes\n",
    "# install.packages(\"gridExtra\")\n",
    "# install.packages(\"GGally\")\n",
    "# install.packages(\"glmnet\")\n",
    "\n",
    "# Si ubiece algún problema probar esto antes:\n",
    "# options(repos = \"https://cran.rstudio.com\")\n",
    "# Fuente: https://stackoverflow.com/questions/45115975/problems-with-installation-r-packages"
   ]
  },
  {
   "cell_type": "code",
   "execution_count": 2,
   "metadata": {},
   "outputs": [
    {
     "name": "stderr",
     "output_type": "stream",
     "text": [
      "Warning message:\n",
      "\"package 'GGally' was built under R version 3.4.4\"Warning message:\n",
      "\"package 'glmnet' was built under R version 3.4.4\"Loading required package: Matrix\n",
      "Loading required package: foreach\n",
      "Loaded glmnet 2.0-16\n",
      "\n"
     ]
    }
   ],
   "source": [
    "# Leer librerias\n",
    "library(ggplot2)\n",
    "library(grid)\n",
    "library(gridExtra)\n",
    "library(GGally)\n",
    "library(glmnet)"
   ]
  },
  {
   "cell_type": "markdown",
   "metadata": {},
   "source": [
    "## 1.1 Exploración de los datos"
   ]
  },
  {
   "cell_type": "markdown",
   "metadata": {},
   "source": [
    "Exploraremos una base de datos de variables selecionadas y pre-procesadas del Banco Mundial (http://databank.bancomundial.org/data/home.aspx). La base de datos muestra distintos promedios simples de indicadores económicos entre los años 2000 - 2006 para distintos países."
   ]
  },
  {
   "cell_type": "code",
   "execution_count": 3,
   "metadata": {
    "scrolled": false
   },
   "outputs": [
    {
     "data": {
      "text/html": [
       "<table>\n",
       "<thead><tr><th></th><th scope=col>gni_pc</th><th scope=col>ext_bal</th><th scope=col>agr_va</th><th scope=col>ser_va</th><th scope=col>ind_va</th><th scope=col>edu_exp</th><th scope=col>rsdv_exp</th><th scope=col>researchers</th><th scope=col>h_tech_exp</th><th scope=col>bs_st_cost</th><th scope=col>nw_bs_dnst</th><th scope=col>employ</th><th scope=col>unemploy</th><th scope=col>in_class</th></tr></thead>\n",
       "<tbody>\n",
       "\t<tr><th scope=row>BOL</th><td> 4989.15           </td><td>  2.35             </td><td>13.88              </td><td>51.81              </td><td>34.31              </td><td>6.66               </td><td>0.25               </td><td> 125.48            </td><td>11.10              </td><td>105.39             </td><td> 0.43              </td><td>68.76              </td><td> 4.24              </td><td>Lower middle income</td></tr>\n",
       "\t<tr><th scope=row>ALB</th><td> 8589.28           </td><td>-22.20             </td><td>22.09              </td><td>53.14              </td><td>24.77              </td><td>3.24               </td><td>0.12               </td><td> 157.34            </td><td> 1.50              </td><td> 28.51             </td><td> 0.91              </td><td>47.40              </td><td>14.99              </td><td>Upper middle income</td></tr>\n",
       "\t<tr><th scope=row>DZA</th><td>11963.54           </td><td> 11.20             </td><td> 9.57              </td><td>36.29              </td><td>54.14              </td><td>4.34               </td><td>0.20               </td><td> 168.12            </td><td> 0.97              </td><td> 12.52             </td><td> 0.46              </td><td>36.27              </td><td>15.34              </td><td>Upper middle income</td></tr>\n",
       "\t<tr><th scope=row>ARG</th><td>16360.11           </td><td>  4.04             </td><td> 8.00              </td><td>61.18              </td><td>30.82              </td><td>4.40               </td><td>0.47               </td><td> 945.54            </td><td> 7.82              </td><td> 12.86             </td><td> 0.53              </td><td>54.17              </td><td>10.42              </td><td>Upper middle income</td></tr>\n",
       "\t<tr><th scope=row>AUS</th><td>38714.44           </td><td> -1.16             </td><td> 2.89              </td><td>69.99              </td><td>27.11              </td><td>4.98               </td><td>2.07               </td><td>4060.73            </td><td>13.15              </td><td>  1.08             </td><td>10.77              </td><td>61.11              </td><td> 5.51              </td><td>High income        </td></tr>\n",
       "\t<tr><th scope=row>AUT</th><td>42216.06           </td><td>  3.03             </td><td> 1.55              </td><td>68.64              </td><td>29.81              </td><td>5.47               </td><td>2.46               </td><td>4018.92            </td><td>13.48              </td><td>  4.29             </td><td> 0.62              </td><td>56.80              </td><td> 5.08              </td><td>High income        </td></tr>\n",
       "</tbody>\n",
       "</table>\n"
      ],
      "text/latex": [
       "\\begin{tabular}{r|llllllllllllll}\n",
       "  & gni\\_pc & ext\\_bal & agr\\_va & ser\\_va & ind\\_va & edu\\_exp & rsdv\\_exp & researchers & h\\_tech\\_exp & bs\\_st\\_cost & nw\\_bs\\_dnst & employ & unemploy & in\\_class\\\\\n",
       "\\hline\n",
       "\tBOL &  4989.15            &   2.35              & 13.88               & 51.81               & 34.31               & 6.66                & 0.25                &  125.48             & 11.10               & 105.39              &  0.43               & 68.76               &  4.24               & Lower middle income\\\\\n",
       "\tALB &  8589.28            & -22.20              & 22.09               & 53.14               & 24.77               & 3.24                & 0.12                &  157.34             &  1.50               &  28.51              &  0.91               & 47.40               & 14.99               & Upper middle income\\\\\n",
       "\tDZA & 11963.54            &  11.20              &  9.57               & 36.29               & 54.14               & 4.34                & 0.20                &  168.12             &  0.97               &  12.52              &  0.46               & 36.27               & 15.34               & Upper middle income\\\\\n",
       "\tARG & 16360.11            &   4.04              &  8.00               & 61.18               & 30.82               & 4.40                & 0.47                &  945.54             &  7.82               &  12.86              &  0.53               & 54.17               & 10.42               & Upper middle income\\\\\n",
       "\tAUS & 38714.44            &  -1.16              &  2.89               & 69.99               & 27.11               & 4.98                & 2.07                & 4060.73             & 13.15               &   1.08              & 10.77               & 61.11               &  5.51               & High income        \\\\\n",
       "\tAUT & 42216.06            &   3.03              &  1.55               & 68.64               & 29.81               & 5.47                & 2.46                & 4018.92             & 13.48               &   4.29              &  0.62               & 56.80               &  5.08               & High income        \\\\\n",
       "\\end{tabular}\n"
      ],
      "text/markdown": [
       "\n",
       "| <!--/--> | gni_pc | ext_bal | agr_va | ser_va | ind_va | edu_exp | rsdv_exp | researchers | h_tech_exp | bs_st_cost | nw_bs_dnst | employ | unemploy | in_class | \n",
       "|---|---|---|---|---|---|\n",
       "| BOL |  4989.15            |   2.35              | 13.88               | 51.81               | 34.31               | 6.66                | 0.25                |  125.48             | 11.10               | 105.39              |  0.43               | 68.76               |  4.24               | Lower middle income | \n",
       "| ALB |  8589.28            | -22.20              | 22.09               | 53.14               | 24.77               | 3.24                | 0.12                |  157.34             |  1.50               |  28.51              |  0.91               | 47.40               | 14.99               | Upper middle income | \n",
       "| DZA | 11963.54            |  11.20              |  9.57               | 36.29               | 54.14               | 4.34                | 0.20                |  168.12             |  0.97               |  12.52              |  0.46               | 36.27               | 15.34               | Upper middle income | \n",
       "| ARG | 16360.11            |   4.04              |  8.00               | 61.18               | 30.82               | 4.40                | 0.47                |  945.54             |  7.82               |  12.86              |  0.53               | 54.17               | 10.42               | Upper middle income | \n",
       "| AUS | 38714.44            |  -1.16              |  2.89               | 69.99               | 27.11               | 4.98                | 2.07                | 4060.73             | 13.15               |   1.08              | 10.77               | 61.11               |  5.51               | High income         | \n",
       "| AUT | 42216.06            |   3.03              |  1.55               | 68.64               | 29.81               | 5.47                | 2.46                | 4018.92             | 13.48               |   4.29              |  0.62               | 56.80               |  5.08               | High income         | \n",
       "\n",
       "\n"
      ],
      "text/plain": [
       "    gni_pc   ext_bal agr_va ser_va ind_va edu_exp rsdv_exp researchers\n",
       "BOL  4989.15   2.35  13.88  51.81  34.31  6.66    0.25      125.48    \n",
       "ALB  8589.28 -22.20  22.09  53.14  24.77  3.24    0.12      157.34    \n",
       "DZA 11963.54  11.20   9.57  36.29  54.14  4.34    0.20      168.12    \n",
       "ARG 16360.11   4.04   8.00  61.18  30.82  4.40    0.47      945.54    \n",
       "AUS 38714.44  -1.16   2.89  69.99  27.11  4.98    2.07     4060.73    \n",
       "AUT 42216.06   3.03   1.55  68.64  29.81  5.47    2.46     4018.92    \n",
       "    h_tech_exp bs_st_cost nw_bs_dnst employ unemploy in_class           \n",
       "BOL 11.10      105.39      0.43      68.76   4.24    Lower middle income\n",
       "ALB  1.50       28.51      0.91      47.40  14.99    Upper middle income\n",
       "DZA  0.97       12.52      0.46      36.27  15.34    Upper middle income\n",
       "ARG  7.82       12.86      0.53      54.17  10.42    Upper middle income\n",
       "AUS 13.15        1.08     10.77      61.11   5.51    High income        \n",
       "AUT 13.48        4.29      0.62      56.80   5.08    High income        "
      ]
     },
     "metadata": {},
     "output_type": "display_data"
    }
   ],
   "source": [
    "# Leer datos\n",
    "datos_paises <- readRDS(\"C:/Users/AYAR/Google Drive/Club de Ciencia de Datos/Bases de Datos/Banco Mundial/datos_paises_variables_de_interes_personal_APS_prepro_f.rds\")\n",
    "head(datos_paises)"
   ]
  },
  {
   "cell_type": "code",
   "execution_count": 4,
   "metadata": {},
   "outputs": [
    {
     "data": {
      "text/plain": [
       "     gni_pc         ext_bal            agr_va           ser_va     \n",
       " Min.   : 1141   Min.   :-36.980   Min.   : 0.050   Min.   :36.02  \n",
       " 1st Qu.: 7890   1st Qu.: -7.190   1st Qu.: 2.550   1st Qu.:54.92  \n",
       " Median :16360   Median : -1.560   Median : 5.130   Median :62.60  \n",
       " Mean   :20923   Mean   : -1.977   Mean   : 9.423   Mean   :61.91  \n",
       " 3rd Qu.:33081   3rd Qu.:  3.240   3rd Qu.:12.565   3rd Qu.:69.10  \n",
       " Max.   :63370   Max.   : 28.340   Max.   :44.740   Max.   :91.42  \n",
       "     ind_va         edu_exp         rsdv_exp      researchers     \n",
       " Min.   : 8.51   Min.   :1.670   Min.   :0.050   Min.   :  17.58  \n",
       " 1st Qu.:24.10   1st Qu.:3.630   1st Qu.:0.300   1st Qu.: 166.01  \n",
       " Median :28.14   Median :4.400   Median :0.610   Median : 945.54  \n",
       " Mean   :28.68   Mean   :4.614   Mean   :0.946   Mean   :1760.32  \n",
       " 3rd Qu.:32.66   3rd Qu.:5.435   3rd Qu.:1.285   3rd Qu.:3037.36  \n",
       " Max.   :62.71   Max.   :9.720   Max.   :3.400   Max.   :7454.10  \n",
       "   h_tech_exp      bs_st_cost        nw_bs_dnst        employ     \n",
       " Min.   : 0.19   Min.   :  0.070   Min.   : 0.03   Min.   :36.27  \n",
       " 1st Qu.: 4.58   1st Qu.:  4.065   1st Qu.: 0.72   1st Qu.:49.89  \n",
       " Median : 8.15   Median :  9.090   Median : 2.32   Median :56.37  \n",
       " Mean   :12.41   Mean   : 22.644   Mean   : 3.89   Mean   :56.90  \n",
       " 3rd Qu.:15.82   3rd Qu.: 20.375   3rd Qu.: 5.07   3rd Qu.:61.56  \n",
       " Max.   :62.87   Max.   :192.040   Max.   :24.25   Max.   :84.02  \n",
       "    unemploy                     in_class \n",
       " Min.   : 0.980   Low income         : 7  \n",
       " 1st Qu.: 5.100   Lower middle income:16  \n",
       " Median : 7.530   Upper middle income:21  \n",
       " Mean   : 8.586   High income        :39  \n",
       " 3rd Qu.:10.595                           \n",
       " Max.   :32.180                           "
      ]
     },
     "metadata": {},
     "output_type": "display_data"
    }
   ],
   "source": [
    "summary(datos_paises)"
   ]
  },
  {
   "cell_type": "markdown",
   "metadata": {},
   "source": [
    "## 1.2 Disperción de las variables respecto a la respuesta"
   ]
  },
  {
   "cell_type": "code",
   "execution_count": 5,
   "metadata": {
    "scrolled": true
   },
   "outputs": [
    {
     "data": {
      "image/png": "[encoded data removed]",
      "text/plain": [
       "plot without title"
      ]
     },
     "metadata": {},
     "output_type": "display_data"
    }
   ],
   "source": [
    "disp_plot_1 <- list()\n",
    "for(i in c(1:12)){\n",
    "  disp_plot_1[[i]] <- ggplot(datos_paises, aes_string(x=colnames(datos_paises)[i+1],y=\"gni_pc\")) +\n",
    "    geom_point(aes(colour=in_class),show.legend = F)+geom_smooth(span=2, method = 'loess')\n",
    "}\n",
    "grid.arrange(grobs=disp_plot_1, ncol=4)"
   ]
  },
  {
   "cell_type": "markdown",
   "metadata": {},
   "source": [
    "# 1.3 Transformación de variables"
   ]
  },
  {
   "cell_type": "code",
   "execution_count": 6,
   "metadata": {},
   "outputs": [],
   "source": [
    "datos_paises_t             <- datos_paises\n",
    "datos_paises_t$gni_pc      <- log(datos_paises_t$gni_pc)\n",
    "datos_paises_t$ext_bal     <- log(datos_paises_t$ext_bal+100)\n",
    "datos_paises_t$agr_va      <- log(datos_paises_t$agr_va)\n",
    "datos_paises_t$ser_va      <- log(datos_paises_t$ser_va)\n",
    "datos_paises_t$ind_va      <- log(datos_paises_t$ind_va)\n",
    "datos_paises_t$edu_exp     <- log(datos_paises_t$edu_exp)\n",
    "datos_paises_t$rsdv_exp    <- log(datos_paises_t$rsdv_exp)\n",
    "datos_paises_t$researchers <- log(datos_paises_t$researchers)\n",
    "datos_paises_t$h_tech_exp  <- log(datos_paises_t$h_tech_exp)\n",
    "datos_paises_t$bs_st_cost  <- log(datos_paises_t$bs_st_cost)\n",
    "datos_paises_t$nw_bs_dnst  <- log(datos_paises_t$nw_bs_dnst)\n",
    "datos_paises_t$employ      <- log(datos_paises_t$employ)\n",
    "datos_paises_t$unemploy    <- log(datos_paises_t$unemploy)\n",
    "colnames(datos_paises_t)   <- c(\"l_gni_pc\",\n",
    "                                \"l_ext_bal\",\n",
    "                                \"l_agr_va\",\n",
    "                                \"l_ser_va\",\n",
    "                                \"l_ind_va\",\n",
    "                                \"l_edu_exp\",\n",
    "                                \"l_rsdv_exp\",\n",
    "                                \"l_researchers\",\n",
    "                                \"l_h_tech_exp\",\n",
    "                                \"l_bs_st_cost\",\n",
    "                                \"l_nw_bs_dnst\",\n",
    "                                \"l_employ\",\n",
    "                                \"l_unemploy\",\n",
    "                                \"in_class\")"
   ]
  },
  {
   "cell_type": "markdown",
   "metadata": {},
   "source": [
    "Ahora... ¡Volvamos a ver los gráficos de disperción!"
   ]
  },
  {
   "cell_type": "code",
   "execution_count": 7,
   "metadata": {},
   "outputs": [
    {
     "data": {
      "image/png": "[encoded data removed]",
      "text/plain": [
       "plot without title"
      ]
     },
     "metadata": {},
     "output_type": "display_data"
    }
   ],
   "source": [
    "disp_plot_2 <- list()\n",
    "for(i in c(1:12)){\n",
    "  disp_plot_2[[i]] <- ggplot(datos_paises_t, aes_string(x=colnames(datos_paises_t)[i+1],y=\"l_gni_pc\")) +\n",
    "    geom_point(aes(colour=in_class),show.legend = F) +geom_smooth(method=\"lm\")\n",
    "}\n",
    "grid.arrange(grobs=disp_plot_2, ncol=4)"
   ]
  },
  {
   "cell_type": "markdown",
   "metadata": {},
   "source": [
    "# 2. Modelación"
   ]
  },
  {
   "cell_type": "code",
   "execution_count": 8,
   "metadata": {},
   "outputs": [],
   "source": [
    "mod_lin <- lm(data=datos_paises_t,\n",
    "              l_gni_pc~l_ext_bal+l_agr_va+l_ser_va+l_ind_va+l_edu_exp+l_rsdv_exp+l_researchers+l_h_tech_exp+l_bs_st_cost+l_nw_bs_dnst+l_employ+l_unemploy+in_class\n",
    "              )"
   ]
  },
  {
   "cell_type": "code",
   "execution_count": 9,
   "metadata": {},
   "outputs": [
    {
     "data": {
      "text/plain": [
       "\n",
       "Call:\n",
       "lm(formula = l_gni_pc ~ l_ext_bal + l_agr_va + l_ser_va + l_ind_va + \n",
       "    l_edu_exp + l_rsdv_exp + l_researchers + l_h_tech_exp + l_bs_st_cost + \n",
       "    l_nw_bs_dnst + l_employ + l_unemploy + in_class, data = datos_paises_t)\n",
       "\n",
       "Residuals:\n",
       "     Min       1Q   Median       3Q      Max \n",
       "-0.39738 -0.13412 -0.01859  0.17544  0.37317 \n",
       "\n",
       "Coefficients:\n",
       "                            Estimate Std. Error t value Pr(>|t|)    \n",
       "(Intercept)                  0.63957    2.66760   0.240 0.811251    \n",
       "l_ext_bal                    1.26525    0.39716   3.186 0.002193 ** \n",
       "l_agr_va                    -0.15630    0.04209  -3.713 0.000419 ***\n",
       "l_ser_va                     0.42480    0.31161   1.363 0.177368    \n",
       "l_ind_va                     0.18053    0.13894   1.299 0.198269    \n",
       "l_edu_exp                    0.13506    0.09399   1.437 0.155394    \n",
       "l_rsdv_exp                  -0.11923    0.05979  -1.994 0.050211 .  \n",
       "l_researchers                0.16750    0.04806   3.485 0.000873 ***\n",
       "l_h_tech_exp                -0.01247    0.02861  -0.436 0.664395    \n",
       "l_bs_st_cost                -0.05208    0.03069  -1.697 0.094289 .  \n",
       "l_nw_bs_dnst                -0.03456    0.03072  -1.125 0.264692    \n",
       "l_employ                    -0.28766    0.24030  -1.197 0.235492    \n",
       "l_unemploy                  -0.12271    0.06297  -1.949 0.055537 .  \n",
       "in_classLower middle income  0.64484    0.13428   4.802 9.18e-06 ***\n",
       "in_classUpper middle income  1.25474    0.16591   7.563 1.48e-10 ***\n",
       "in_classHigh income          1.64379    0.18120   9.072 2.85e-13 ***\n",
       "---\n",
       "Signif. codes:  0 '***' 0.001 '**' 0.01 '*' 0.05 '.' 0.1 ' ' 1\n",
       "\n",
       "Residual standard error: 0.2121 on 67 degrees of freedom\n",
       "Multiple R-squared:  0.9666,\tAdjusted R-squared:  0.9592 \n",
       "F-statistic: 129.4 on 15 and 67 DF,  p-value: < 2.2e-16\n"
      ]
     },
     "metadata": {},
     "output_type": "display_data"
    }
   ],
   "source": [
    "summary(mod_lin)"
   ]
  },
  {
   "cell_type": "code",
   "execution_count": 10,
   "metadata": {},
   "outputs": [
    {
     "data": {
      "text/html": [
       "<table>\n",
       "<thead><tr><th></th><th scope=col>5 %</th><th scope=col>95 %</th></tr></thead>\n",
       "<tbody>\n",
       "\t<tr><th scope=row>(Intercept)</th><td>-3.8098</td><td> 5.0889</td></tr>\n",
       "\t<tr><th scope=row>l_ext_bal</th><td> 0.6028</td><td> 1.9277</td></tr>\n",
       "\t<tr><th scope=row>l_agr_va</th><td>-0.2265</td><td>-0.0861</td></tr>\n",
       "\t<tr><th scope=row>l_ser_va</th><td>-0.0949</td><td> 0.9445</td></tr>\n",
       "\t<tr><th scope=row>l_ind_va</th><td>-0.0512</td><td> 0.4123</td></tr>\n",
       "\t<tr><th scope=row>l_edu_exp</th><td>-0.0217</td><td> 0.2918</td></tr>\n",
       "\t<tr><th scope=row>l_rsdv_exp</th><td>-0.2190</td><td>-0.0195</td></tr>\n",
       "\t<tr><th scope=row>l_researchers</th><td> 0.0873</td><td> 0.2477</td></tr>\n",
       "\t<tr><th scope=row>l_h_tech_exp</th><td>-0.0602</td><td> 0.0352</td></tr>\n",
       "\t<tr><th scope=row>l_bs_st_cost</th><td>-0.1033</td><td>-0.0009</td></tr>\n",
       "\t<tr><th scope=row>l_nw_bs_dnst</th><td>-0.0858</td><td> 0.0167</td></tr>\n",
       "\t<tr><th scope=row>l_employ</th><td>-0.6885</td><td> 0.1131</td></tr>\n",
       "\t<tr><th scope=row>l_unemploy</th><td>-0.2277</td><td>-0.0177</td></tr>\n",
       "\t<tr><th scope=row>in_classLower middle income</th><td> 0.4209</td><td> 0.8688</td></tr>\n",
       "\t<tr><th scope=row>in_classUpper middle income</th><td> 0.9780</td><td> 1.5315</td></tr>\n",
       "\t<tr><th scope=row>in_classHigh income</th><td> 1.3416</td><td> 1.9460</td></tr>\n",
       "</tbody>\n",
       "</table>\n"
      ],
      "text/latex": [
       "\\begin{tabular}{r|ll}\n",
       "  & 5 \\% & 95 \\%\\\\\n",
       "\\hline\n",
       "\t(Intercept) & -3.8098 &  5.0889\\\\\n",
       "\tl\\_ext\\_bal &  0.6028 &  1.9277\\\\\n",
       "\tl\\_agr\\_va & -0.2265 & -0.0861\\\\\n",
       "\tl\\_ser\\_va & -0.0949 &  0.9445\\\\\n",
       "\tl\\_ind\\_va & -0.0512 &  0.4123\\\\\n",
       "\tl\\_edu\\_exp & -0.0217 &  0.2918\\\\\n",
       "\tl\\_rsdv\\_exp & -0.2190 & -0.0195\\\\\n",
       "\tl\\_researchers &  0.0873 &  0.2477\\\\\n",
       "\tl\\_h\\_tech\\_exp & -0.0602 &  0.0352\\\\\n",
       "\tl\\_bs\\_st\\_cost & -0.1033 & -0.0009\\\\\n",
       "\tl\\_nw\\_bs\\_dnst & -0.0858 &  0.0167\\\\\n",
       "\tl\\_employ & -0.6885 &  0.1131\\\\\n",
       "\tl\\_unemploy & -0.2277 & -0.0177\\\\\n",
       "\tin\\_classLower middle income &  0.4209 &  0.8688\\\\\n",
       "\tin\\_classUpper middle income &  0.9780 &  1.5315\\\\\n",
       "\tin\\_classHigh income &  1.3416 &  1.9460\\\\\n",
       "\\end{tabular}\n"
      ],
      "text/markdown": [
       "\n",
       "| <!--/--> | 5 % | 95 % | \n",
       "|---|---|---|---|---|---|---|---|---|---|---|---|---|---|---|---|\n",
       "| (Intercept) | -3.8098 |  5.0889 | \n",
       "| l_ext_bal |  0.6028 |  1.9277 | \n",
       "| l_agr_va | -0.2265 | -0.0861 | \n",
       "| l_ser_va | -0.0949 |  0.9445 | \n",
       "| l_ind_va | -0.0512 |  0.4123 | \n",
       "| l_edu_exp | -0.0217 |  0.2918 | \n",
       "| l_rsdv_exp | -0.2190 | -0.0195 | \n",
       "| l_researchers |  0.0873 |  0.2477 | \n",
       "| l_h_tech_exp | -0.0602 |  0.0352 | \n",
       "| l_bs_st_cost | -0.1033 | -0.0009 | \n",
       "| l_nw_bs_dnst | -0.0858 |  0.0167 | \n",
       "| l_employ | -0.6885 |  0.1131 | \n",
       "| l_unemploy | -0.2277 | -0.0177 | \n",
       "| in_classLower middle income |  0.4209 |  0.8688 | \n",
       "| in_classUpper middle income |  0.9780 |  1.5315 | \n",
       "| in_classHigh income |  1.3416 |  1.9460 | \n",
       "\n",
       "\n"
      ],
      "text/plain": [
       "                            5 %     95 %   \n",
       "(Intercept)                 -3.8098  5.0889\n",
       "l_ext_bal                    0.6028  1.9277\n",
       "l_agr_va                    -0.2265 -0.0861\n",
       "l_ser_va                    -0.0949  0.9445\n",
       "l_ind_va                    -0.0512  0.4123\n",
       "l_edu_exp                   -0.0217  0.2918\n",
       "l_rsdv_exp                  -0.2190 -0.0195\n",
       "l_researchers                0.0873  0.2477\n",
       "l_h_tech_exp                -0.0602  0.0352\n",
       "l_bs_st_cost                -0.1033 -0.0009\n",
       "l_nw_bs_dnst                -0.0858  0.0167\n",
       "l_employ                    -0.6885  0.1131\n",
       "l_unemploy                  -0.2277 -0.0177\n",
       "in_classLower middle income  0.4209  0.8688\n",
       "in_classUpper middle income  0.9780  1.5315\n",
       "in_classHigh income          1.3416  1.9460"
      ]
     },
     "metadata": {},
     "output_type": "display_data"
    }
   ],
   "source": [
    "round(confint(mod_lin, level=0.90),4)"
   ]
  },
  {
   "cell_type": "markdown",
   "metadata": {},
   "source": [
    "# 3. Identificación de variables importantes"
   ]
  },
  {
   "cell_type": "markdown",
   "metadata": {},
   "source": [
    "## 3.1 Métodos Iterativos"
   ]
  },
  {
   "cell_type": "markdown",
   "metadata": {},
   "source": [
    "Los siguientes métodos parten por un modelo base y en cada iteración se incorporan o quitan variables tomando algún criterio de selección.\n",
    "\n",
    "__Criterio de Información de Akaike__\n",
    "\n",
    "Un criterio muy usado es el Criterio de Información de Akaike (AIC). Para un modelo de regresión lineal el AIC esta definido como:\n",
    "\n",
    "$$\n",
    "AIC = 2k + n\\ln \\Big(\\frac{SCE}{n}\\Big)\n",
    "$$\n",
    "\n",
    "donde,\n",
    "\n",
    "* $k$: Número de parámetros.\n",
    "\n",
    "* $n$: Número de observaciones\n",
    "\n",
    "* $SCE$: Cuadrado medio de los errores.\n",
    "\n",
    "Calculemos el AIC para nuestro modelo:"
   ]
  },
  {
   "cell_type": "code",
   "execution_count": 11,
   "metadata": {},
   "outputs": [
    {
     "ename": "ERROR",
     "evalue": "Error in eval(expr, envir, enclos): objeto 'mod_lin.todo' no encontrado\n",
     "output_type": "error",
     "traceback": [
      "Error in eval(expr, envir, enclos): objeto 'mod_lin.todo' no encontrado\nTraceback:\n"
     ]
    }
   ],
   "source": [
    "AIC <- 2*16 + nrow(datos_paises_t)*log(sum(mod_lin.todo$residuals^2)/nrow(datos_paises_t))\n",
    "round(AIC,2)"
   ]
  },
  {
   "cell_type": "markdown",
   "metadata": {},
   "source": [
    "### 3.1.1 Selección Backward"
   ]
  },
  {
   "cell_type": "code",
   "execution_count": 12,
   "metadata": {},
   "outputs": [],
   "source": [
    "mod_lin.todo <- lm(data=datos_paises_t, l_gni_pc~.)\n"
   ]
  },
  {
   "cell_type": "code",
   "execution_count": 13,
   "metadata": {},
   "outputs": [
    {
     "name": "stdout",
     "output_type": "stream",
     "text": [
      "Start:  AIC=-243.19\n",
      "l_gni_pc ~ l_ext_bal + l_agr_va + l_ser_va + l_ind_va + l_edu_exp + \n",
      "    l_rsdv_exp + l_researchers + l_h_tech_exp + l_bs_st_cost + \n",
      "    l_nw_bs_dnst + l_employ + l_unemploy + in_class\n",
      "\n",
      "                Df Sum of Sq    RSS     AIC\n",
      "- l_h_tech_exp   1    0.0085 3.0228 -244.95\n",
      "- l_nw_bs_dnst   1    0.0569 3.0712 -243.63\n",
      "- l_employ       1    0.0645 3.0787 -243.43\n",
      "<none>                       3.0143 -243.19\n",
      "- l_ind_va       1    0.0760 3.0902 -243.12\n",
      "- l_ser_va       1    0.0836 3.0979 -242.91\n",
      "- l_edu_exp      1    0.0929 3.1072 -242.67\n",
      "- l_bs_st_cost   1    0.1296 3.1439 -241.69\n",
      "- l_unemploy     1    0.1708 3.1851 -240.61\n",
      "- l_rsdv_exp     1    0.1789 3.1932 -240.40\n",
      "- l_ext_bal      1    0.4566 3.4708 -233.48\n",
      "- l_researchers  1    0.5464 3.5606 -231.36\n",
      "- l_agr_va       1    0.6202 3.6345 -229.65\n",
      "- in_class       3    4.1631 7.1774 -177.18\n",
      "\n",
      "Step:  AIC=-244.95\n",
      "l_gni_pc ~ l_ext_bal + l_agr_va + l_ser_va + l_ind_va + l_edu_exp + \n",
      "    l_rsdv_exp + l_researchers + l_bs_st_cost + l_nw_bs_dnst + \n",
      "    l_employ + l_unemploy + in_class\n",
      "\n",
      "                Df Sum of Sq    RSS     AIC\n",
      "- l_nw_bs_dnst   1    0.0567 3.0795 -245.41\n",
      "- l_ind_va       1    0.0696 3.0924 -245.06\n",
      "<none>                       3.0228 -244.95\n",
      "- l_ser_va       1    0.0753 3.0981 -244.91\n",
      "- l_employ       1    0.0760 3.0989 -244.89\n",
      "- l_edu_exp      1    0.0879 3.1107 -244.57\n",
      "- l_bs_st_cost   1    0.1391 3.1619 -243.22\n",
      "- l_unemploy     1    0.1648 3.1877 -242.54\n",
      "- l_rsdv_exp     1    0.1738 3.1966 -242.31\n",
      "- l_ext_bal      1    0.4480 3.4708 -235.48\n",
      "- l_researchers  1    0.5470 3.5698 -233.15\n",
      "- l_agr_va       1    0.6213 3.6441 -231.44\n",
      "- in_class       3    4.1962 7.2190 -178.70\n",
      "\n",
      "Step:  AIC=-245.41\n",
      "l_gni_pc ~ l_ext_bal + l_agr_va + l_ser_va + l_ind_va + l_edu_exp + \n",
      "    l_rsdv_exp + l_researchers + l_bs_st_cost + l_employ + l_unemploy + \n",
      "    in_class\n",
      "\n",
      "                Df Sum of Sq    RSS     AIC\n",
      "- l_ser_va       1    0.0420 3.1214 -246.29\n",
      "- l_edu_exp      1    0.0547 3.1341 -245.95\n",
      "- l_ind_va       1    0.0677 3.1471 -245.60\n",
      "<none>                       3.0795 -245.41\n",
      "- l_employ       1    0.0925 3.1719 -244.95\n",
      "- l_bs_st_cost   1    0.0986 3.1781 -244.79\n",
      "- l_rsdv_exp     1    0.1347 3.2142 -243.86\n",
      "- l_unemploy     1    0.1660 3.2455 -243.05\n",
      "- l_ext_bal      1    0.4555 3.5349 -235.96\n",
      "- l_researchers  1    0.5512 3.6307 -233.74\n",
      "- l_agr_va       1    0.6153 3.6947 -232.29\n",
      "- in_class       3    4.4193 7.4988 -177.54\n",
      "\n",
      "Step:  AIC=-246.29\n",
      "l_gni_pc ~ l_ext_bal + l_agr_va + l_ind_va + l_edu_exp + l_rsdv_exp + \n",
      "    l_researchers + l_bs_st_cost + l_employ + l_unemploy + in_class\n",
      "\n",
      "                Df Sum of Sq    RSS     AIC\n",
      "- l_ind_va       1    0.0293 3.1507 -247.51\n",
      "- l_edu_exp      1    0.0464 3.1678 -247.06\n",
      "<none>                       3.1214 -246.29\n",
      "- l_employ       1    0.0832 3.2046 -246.10\n",
      "- l_bs_st_cost   1    0.0909 3.2123 -245.90\n",
      "- l_rsdv_exp     1    0.1277 3.2491 -244.96\n",
      "- l_unemploy     1    0.1505 3.2719 -244.38\n",
      "- l_ext_bal      1    0.4173 3.5387 -237.87\n",
      "- l_researchers  1    0.7044 3.8258 -231.40\n",
      "- l_agr_va       1    0.8041 3.9255 -229.26\n",
      "- in_class       3    5.1757 8.2971 -171.14\n",
      "\n",
      "Step:  AIC=-247.51\n",
      "l_gni_pc ~ l_ext_bal + l_agr_va + l_edu_exp + l_rsdv_exp + l_researchers + \n",
      "    l_bs_st_cost + l_employ + l_unemploy + in_class\n",
      "\n",
      "                Df Sum of Sq    RSS     AIC\n",
      "- l_edu_exp      1    0.0493 3.2000 -248.22\n",
      "<none>                       3.1507 -247.51\n",
      "- l_employ       1    0.0968 3.2475 -247.00\n",
      "- l_bs_st_cost   1    0.1007 3.2514 -246.90\n",
      "- l_rsdv_exp     1    0.1393 3.2900 -245.92\n",
      "- l_unemploy     1    0.1438 3.2945 -245.81\n",
      "- l_researchers  1    0.7119 3.8625 -232.60\n",
      "- l_agr_va       1    0.8296 3.9803 -230.11\n",
      "- l_ext_bal      1    0.8359 3.9866 -229.98\n",
      "- in_class       3    5.4091 8.5598 -170.56\n",
      "\n",
      "Step:  AIC=-248.22\n",
      "l_gni_pc ~ l_ext_bal + l_agr_va + l_rsdv_exp + l_researchers + \n",
      "    l_bs_st_cost + l_employ + l_unemploy + in_class\n",
      "\n",
      "                Df Sum of Sq    RSS     AIC\n",
      "<none>                       3.2000 -248.22\n",
      "- l_employ       1    0.0895 3.2895 -247.93\n",
      "- l_rsdv_exp     1    0.0957 3.2957 -247.78\n",
      "- l_unemploy     1    0.1227 3.3227 -247.10\n",
      "- l_bs_st_cost   1    0.1274 3.3274 -246.98\n",
      "- l_researchers  1    0.6796 3.8796 -234.24\n",
      "- l_agr_va       1    0.7950 3.9950 -231.80\n",
      "- l_ext_bal      1    0.8180 4.0180 -231.33\n",
      "- in_class       3    5.4218 8.6218 -171.96\n"
     ]
    },
    {
     "data": {
      "text/plain": [
       "\n",
       "Call:\n",
       "lm(formula = l_gni_pc ~ l_ext_bal + l_agr_va + l_rsdv_exp + l_researchers + \n",
       "    l_bs_st_cost + l_employ + l_unemploy + in_class, data = datos_paises_t)\n",
       "\n",
       "Coefficients:\n",
       "                (Intercept)                    l_ext_bal  \n",
       "                    2.88644                      1.33305  \n",
       "                   l_agr_va                   l_rsdv_exp  \n",
       "                   -0.15068                     -0.07604  \n",
       "              l_researchers                 l_bs_st_cost  \n",
       "                    0.17183                     -0.04779  \n",
       "                   l_employ                   l_unemploy  \n",
       "                   -0.32702                     -0.10158  \n",
       "in_classLower middle income  in_classUpper middle income  \n",
       "                    0.70293                      1.29059  \n",
       "        in_classHigh income  \n",
       "                    1.67193  \n"
      ]
     },
     "metadata": {},
     "output_type": "display_data"
    }
   ],
   "source": [
    "step(mod_lin.todo, direction=\"backward\")"
   ]
  },
  {
   "cell_type": "markdown",
   "metadata": {},
   "source": [
    "### 3.1.2 Selección Forward"
   ]
  },
  {
   "cell_type": "code",
   "execution_count": 14,
   "metadata": {},
   "outputs": [],
   "source": [
    "mod_lin.base <- lm(data=datos_paises_t, l_gni_pc~1)"
   ]
  },
  {
   "cell_type": "code",
   "execution_count": 15,
   "metadata": {},
   "outputs": [
    {
     "data": {
      "text/plain": [
       "\n",
       "Call:\n",
       "lm(formula = l_gni_pc ~ 1, data = datos_paises_t)\n",
       "\n",
       "Residuals:\n",
       "    Min      1Q  Median      3Q     Max \n",
       "-2.4973 -0.5641  0.1655  0.8687  1.5196 \n",
       "\n",
       "Coefficients:\n",
       "            Estimate Std. Error t value Pr(>|t|)    \n",
       "(Intercept)   9.5371     0.1152   82.78   <2e-16 ***\n",
       "---\n",
       "Signif. codes:  0 '***' 0.001 '**' 0.01 '*' 0.05 '.' 0.1 ' ' 1\n",
       "\n",
       "Residual standard error: 1.05 on 82 degrees of freedom\n"
      ]
     },
     "metadata": {},
     "output_type": "display_data"
    }
   ],
   "source": [
    "summary(mod_lin.base)"
   ]
  },
  {
   "cell_type": "code",
   "execution_count": 16,
   "metadata": {},
   "outputs": [
    {
     "name": "stdout",
     "output_type": "stream",
     "text": [
      "Start:  AIC=9.03\n",
      "l_gni_pc ~ 1\n",
      "\n",
      "                Df Sum of Sq    RSS      AIC\n",
      "+ in_class       3    80.705  9.635 -170.734\n",
      "+ l_researchers  1    66.751 23.589 -100.419\n",
      "+ l_agr_va       1    65.767 24.573  -97.026\n",
      "+ l_bs_st_cost   1    54.125 36.216  -64.836\n",
      "+ l_rsdv_exp     1    43.440 46.900  -43.378\n",
      "+ l_nw_bs_dnst   1    41.821 48.519  -40.561\n",
      "+ l_ext_bal      1    41.566 48.775  -40.125\n",
      "+ l_ser_va       1    39.085 51.255  -36.008\n",
      "+ l_h_tech_exp   1    30.458 59.883  -23.095\n",
      "+ l_edu_exp      1    10.979 79.361    0.279\n",
      "+ l_employ       1     9.415 80.925    1.899\n",
      "+ l_ind_va       1     3.974 86.367    7.300\n",
      "<none>                       90.340    9.034\n",
      "+ l_unemploy     1     1.676 88.664    9.479\n",
      "\n",
      "Step:  AIC=-170.73\n",
      "l_gni_pc ~ in_class\n",
      "\n",
      "                Df Sum of Sq    RSS     AIC\n",
      "+ l_agr_va       1    3.7547 5.8805 -209.72\n",
      "+ l_researchers  1    2.6739 6.9612 -195.71\n",
      "+ l_ext_bal      1    2.4657 7.1695 -193.27\n",
      "+ l_bs_st_cost   1    1.6762 7.9590 -184.60\n",
      "+ l_rsdv_exp     1    1.5781 8.0571 -183.58\n",
      "+ l_h_tech_exp   1    0.9157 8.7195 -177.02\n",
      "+ l_unemploy     1    0.3881 9.2471 -172.15\n",
      "+ l_ser_va       1    0.3724 9.2627 -172.01\n",
      "+ l_edu_exp      1    0.2428 9.3924 -170.85\n",
      "<none>                       9.6352 -170.73\n",
      "+ l_ind_va       1    0.0971 9.5380 -169.57\n",
      "+ l_nw_bs_dnst   1    0.0295 9.6057 -168.99\n",
      "+ l_employ       1    0.0000 9.6352 -168.73\n",
      "\n",
      "Step:  AIC=-209.72\n",
      "l_gni_pc ~ in_class + l_agr_va\n",
      "\n",
      "                Df Sum of Sq    RSS     AIC\n",
      "+ l_researchers  1   1.59954 4.2809 -234.07\n",
      "+ l_rsdv_exp     1   0.74896 5.1315 -219.03\n",
      "+ l_ext_bal      1   0.61728 5.2632 -216.92\n",
      "+ l_bs_st_cost   1   0.53313 5.3474 -215.61\n",
      "+ l_ind_va       1   0.40990 5.4706 -213.72\n",
      "+ l_h_tech_exp   1   0.30713 5.5734 -212.17\n",
      "+ l_edu_exp      1   0.26293 5.6176 -211.51\n",
      "<none>                       5.8805 -209.72\n",
      "+ l_unemploy     1   0.10239 5.7781 -209.18\n",
      "+ l_nw_bs_dnst   1   0.03317 5.8473 -208.19\n",
      "+ l_employ       1   0.01425 5.8662 -207.92\n",
      "+ l_ser_va       1   0.00064 5.8799 -207.73\n",
      "\n",
      "Step:  AIC=-234.07\n",
      "l_gni_pc ~ in_class + l_agr_va + l_researchers\n",
      "\n",
      "               Df Sum of Sq    RSS     AIC\n",
      "+ l_ext_bal     1   0.79943 3.4815 -249.22\n",
      "+ l_ind_va      1   0.44103 3.8399 -241.09\n",
      "+ l_ser_va      1   0.23766 4.0433 -236.81\n",
      "+ l_unemploy    1   0.13720 4.1438 -234.77\n",
      "<none>                      4.2809 -234.07\n",
      "+ l_nw_bs_dnst  1   0.07331 4.2076 -233.50\n",
      "+ l_employ      1   0.04107 4.2399 -232.87\n",
      "+ l_bs_st_cost  1   0.03532 4.2456 -232.75\n",
      "+ l_rsdv_exp    1   0.03050 4.2505 -232.66\n",
      "+ l_h_tech_exp  1   0.01734 4.2636 -232.40\n",
      "+ l_edu_exp     1   0.00318 4.2778 -232.13\n",
      "\n",
      "Step:  AIC=-249.22\n",
      "l_gni_pc ~ in_class + l_agr_va + l_researchers + l_ext_bal\n",
      "\n",
      "               Df Sum of Sq    RSS     AIC\n",
      "+ l_rsdv_exp    1  0.086664 3.3949 -249.32\n",
      "<none>                      3.4815 -249.22\n",
      "+ l_bs_st_cost  1  0.060102 3.4214 -248.67\n",
      "+ l_ind_va      1  0.047115 3.4344 -248.35\n",
      "+ l_unemploy    1  0.020568 3.4610 -247.72\n",
      "+ l_edu_exp     1  0.007104 3.4744 -247.39\n",
      "+ l_employ      1  0.003660 3.4779 -247.31\n",
      "+ l_h_tech_exp  1  0.001588 3.4799 -247.26\n",
      "+ l_nw_bs_dnst  1  0.001586 3.4799 -247.26\n",
      "+ l_ser_va      1  0.000829 3.4807 -247.24\n",
      "\n",
      "Step:  AIC=-249.32\n",
      "l_gni_pc ~ in_class + l_agr_va + l_researchers + l_ext_bal + \n",
      "    l_rsdv_exp\n",
      "\n",
      "               Df Sum of Sq    RSS     AIC\n",
      "<none>                      3.3949 -249.32\n",
      "+ l_bs_st_cost  1  0.066290 3.3286 -248.95\n",
      "+ l_edu_exp     1  0.048253 3.3466 -248.50\n",
      "+ l_ind_va      1  0.035720 3.3591 -248.19\n",
      "+ l_unemploy    1  0.030827 3.3640 -248.07\n",
      "+ l_nw_bs_dnst  1  0.003928 3.3909 -247.41\n",
      "+ l_h_tech_exp  1  0.001459 3.3934 -247.35\n",
      "+ l_employ      1  0.000677 3.3942 -247.33\n",
      "+ l_ser_va      1  0.000089 3.3948 -247.32\n"
     ]
    },
    {
     "data": {
      "text/plain": [
       "\n",
       "Call:\n",
       "lm(formula = l_gni_pc ~ in_class + l_agr_va + l_researchers + \n",
       "    l_ext_bal + l_rsdv_exp, data = datos_paises_t)\n",
       "\n",
       "Coefficients:\n",
       "                (Intercept)  in_classLower middle income  \n",
       "                    1.21131                      0.77133  \n",
       "in_classUpper middle income          in_classHigh income  \n",
       "                    1.34717                      1.70051  \n",
       "                   l_agr_va                l_researchers  \n",
       "                   -0.17086                      0.20285  \n",
       "                  l_ext_bal                   l_rsdv_exp  \n",
       "                    1.29901                     -0.07179  \n"
      ]
     },
     "metadata": {},
     "output_type": "display_data"
    }
   ],
   "source": [
    "step(mod_lin.base, direction = \"forward\", scope = formula(mod_lin.todo))"
   ]
  },
  {
   "cell_type": "markdown",
   "metadata": {},
   "source": [
    "### 3.1.3 Alernativa 3: Selección Stepwise"
   ]
  },
  {
   "cell_type": "code",
   "execution_count": 17,
   "metadata": {
    "scrolled": false
   },
   "outputs": [
    {
     "name": "stdout",
     "output_type": "stream",
     "text": [
      "Start:  AIC=9.03\n",
      "l_gni_pc ~ 1\n",
      "\n",
      "                Df Sum of Sq    RSS      AIC\n",
      "+ in_class       3    80.705  9.635 -170.734\n",
      "+ l_researchers  1    66.751 23.589 -100.419\n",
      "+ l_agr_va       1    65.767 24.573  -97.026\n",
      "+ l_bs_st_cost   1    54.125 36.216  -64.836\n",
      "+ l_rsdv_exp     1    43.440 46.900  -43.378\n",
      "+ l_nw_bs_dnst   1    41.821 48.519  -40.561\n",
      "+ l_ext_bal      1    41.566 48.775  -40.125\n",
      "+ l_ser_va       1    39.085 51.255  -36.008\n",
      "+ l_h_tech_exp   1    30.458 59.883  -23.095\n",
      "+ l_edu_exp      1    10.979 79.361    0.279\n",
      "+ l_employ       1     9.415 80.925    1.899\n",
      "+ l_ind_va       1     3.974 86.367    7.300\n",
      "<none>                       90.340    9.034\n",
      "+ l_unemploy     1     1.676 88.664    9.479\n",
      "\n",
      "Step:  AIC=-170.73\n",
      "l_gni_pc ~ in_class\n",
      "\n",
      "                Df Sum of Sq    RSS      AIC\n",
      "+ l_agr_va       1     3.755  5.880 -209.718\n",
      "+ l_researchers  1     2.674  6.961 -195.714\n",
      "+ l_ext_bal      1     2.466  7.169 -193.268\n",
      "+ l_bs_st_cost   1     1.676  7.959 -184.597\n",
      "+ l_rsdv_exp     1     1.578  8.057 -183.580\n",
      "+ l_h_tech_exp   1     0.916  8.720 -177.022\n",
      "+ l_unemploy     1     0.388  9.247 -172.146\n",
      "+ l_ser_va       1     0.372  9.263 -172.006\n",
      "+ l_edu_exp      1     0.243  9.392 -170.852\n",
      "<none>                        9.635 -170.734\n",
      "+ l_ind_va       1     0.097  9.538 -169.575\n",
      "+ l_nw_bs_dnst   1     0.029  9.606 -168.988\n",
      "+ l_employ       1     0.000  9.635 -168.734\n",
      "- in_class       3    80.705 90.340    9.034\n",
      "\n",
      "Step:  AIC=-209.72\n",
      "l_gni_pc ~ in_class + l_agr_va\n",
      "\n",
      "                Df Sum of Sq     RSS      AIC\n",
      "+ l_researchers  1    1.5995  4.2809 -234.067\n",
      "+ l_rsdv_exp     1    0.7490  5.1315 -219.025\n",
      "+ l_ext_bal      1    0.6173  5.2632 -216.922\n",
      "+ l_bs_st_cost   1    0.5331  5.3474 -215.606\n",
      "+ l_ind_va       1    0.4099  5.4706 -213.715\n",
      "+ l_h_tech_exp   1    0.3071  5.5734 -212.170\n",
      "+ l_edu_exp      1    0.2629  5.6176 -211.514\n",
      "<none>                        5.8805 -209.718\n",
      "+ l_unemploy     1    0.1024  5.7781 -209.175\n",
      "+ l_nw_bs_dnst   1    0.0332  5.8473 -208.187\n",
      "+ l_employ       1    0.0142  5.8662 -207.919\n",
      "+ l_ser_va       1    0.0006  5.8799 -207.727\n",
      "- l_agr_va       1    3.7547  9.6352 -170.734\n",
      "- in_class       3   18.6929 24.5734  -97.026\n",
      "\n",
      "Step:  AIC=-234.07\n",
      "l_gni_pc ~ in_class + l_agr_va + l_researchers\n",
      "\n",
      "                Df Sum of Sq     RSS     AIC\n",
      "+ l_ext_bal      1    0.7994  3.4815 -249.22\n",
      "+ l_ind_va       1    0.4410  3.8399 -241.09\n",
      "+ l_ser_va       1    0.2377  4.0433 -236.81\n",
      "+ l_unemploy     1    0.1372  4.1438 -234.77\n",
      "<none>                        4.2809 -234.07\n",
      "+ l_nw_bs_dnst   1    0.0733  4.2076 -233.50\n",
      "+ l_employ       1    0.0411  4.2399 -232.87\n",
      "+ l_bs_st_cost   1    0.0353  4.2456 -232.75\n",
      "+ l_rsdv_exp     1    0.0305  4.2505 -232.66\n",
      "+ l_h_tech_exp   1    0.0173  4.2636 -232.40\n",
      "+ l_edu_exp      1    0.0032  4.2778 -232.13\n",
      "- l_researchers  1    1.5995  5.8805 -209.72\n",
      "- l_agr_va       1    2.6803  6.9612 -195.71\n",
      "- in_class       3    8.8948 13.1758 -146.76\n",
      "\n",
      "Step:  AIC=-249.22\n",
      "l_gni_pc ~ in_class + l_agr_va + l_researchers + l_ext_bal\n",
      "\n",
      "                Df Sum of Sq     RSS     AIC\n",
      "+ l_rsdv_exp     1    0.0867  3.3949 -249.32\n",
      "<none>                        3.4815 -249.22\n",
      "+ l_bs_st_cost   1    0.0601  3.4214 -248.67\n",
      "+ l_ind_va       1    0.0471  3.4344 -248.35\n",
      "+ l_unemploy     1    0.0206  3.4610 -247.72\n",
      "+ l_edu_exp      1    0.0071  3.4744 -247.39\n",
      "+ l_employ       1    0.0037  3.4779 -247.31\n",
      "+ l_h_tech_exp   1    0.0016  3.4799 -247.26\n",
      "+ l_nw_bs_dnst   1    0.0016  3.4799 -247.26\n",
      "+ l_ser_va       1    0.0008  3.4807 -247.24\n",
      "- l_ext_bal      1    0.7994  4.2809 -234.07\n",
      "- l_agr_va       1    1.1096  4.5911 -228.26\n",
      "- l_researchers  1    1.7817  5.2632 -216.92\n",
      "- in_class       3    7.6085 11.0900 -159.06\n",
      "\n",
      "Step:  AIC=-249.32\n",
      "l_gni_pc ~ in_class + l_agr_va + l_researchers + l_ext_bal + \n",
      "    l_rsdv_exp\n",
      "\n",
      "                Df Sum of Sq    RSS     AIC\n",
      "<none>                       3.3949 -249.32\n",
      "- l_rsdv_exp     1    0.0867 3.4815 -249.22\n",
      "+ l_bs_st_cost   1    0.0663 3.3286 -248.95\n",
      "+ l_edu_exp      1    0.0483 3.3466 -248.50\n",
      "+ l_ind_va       1    0.0357 3.3591 -248.19\n",
      "+ l_unemploy     1    0.0308 3.3640 -248.07\n",
      "+ l_nw_bs_dnst   1    0.0039 3.3909 -247.41\n",
      "+ l_h_tech_exp   1    0.0015 3.3934 -247.35\n",
      "+ l_employ       1    0.0007 3.3942 -247.33\n",
      "+ l_ser_va       1    0.0001 3.3948 -247.32\n",
      "- l_ext_bal      1    0.8556 4.2505 -232.66\n",
      "- l_agr_va       1    1.1193 4.5141 -227.66\n",
      "- l_researchers  1    1.1444 4.5393 -227.20\n",
      "- in_class       3    6.1592 9.5540 -169.44\n"
     ]
    },
    {
     "data": {
      "text/plain": [
       "\n",
       "Call:\n",
       "lm(formula = l_gni_pc ~ in_class + l_agr_va + l_researchers + \n",
       "    l_ext_bal + l_rsdv_exp, data = datos_paises_t)\n",
       "\n",
       "Coefficients:\n",
       "                (Intercept)  in_classLower middle income  \n",
       "                    1.21131                      0.77133  \n",
       "in_classUpper middle income          in_classHigh income  \n",
       "                    1.34717                      1.70051  \n",
       "                   l_agr_va                l_researchers  \n",
       "                   -0.17086                      0.20285  \n",
       "                  l_ext_bal                   l_rsdv_exp  \n",
       "                    1.29901                     -0.07179  \n"
      ]
     },
     "metadata": {},
     "output_type": "display_data"
    }
   ],
   "source": [
    "step(mod_lin.base,direction = \"both\",scope = formula(mod_lin.todo))"
   ]
  },
  {
   "cell_type": "markdown",
   "metadata": {},
   "source": [
    "__Otro Ejemplo...__\n",
    "\n",
    "Notemos que en el anterior ejemplo obtuvimos el mismo resultado que al usar la selección forward. Esto no necesariamente ocurrira siempre. Planteemos otro ejemplo:"
   ]
  },
  {
   "cell_type": "code",
   "execution_count": 18,
   "metadata": {},
   "outputs": [],
   "source": [
    "N <- 2000\n",
    "y <- rnorm(N)\n",
    "x1 <- y + rnorm(N)\n",
    "x2 <- y + rnorm(N)\n",
    "x3 <- y + rnorm(N)\n",
    "x4 <- rnorm(N)\n",
    "x5 <- rnorm(N)\n",
    "x6 <- x1 + x2 + x3 + rnorm(N)\n",
    "data <- data.frame(y, x1, x2, x3, x4, x5, x6)"
   ]
  },
  {
   "cell_type": "code",
   "execution_count": 19,
   "metadata": {
    "scrolled": true
   },
   "outputs": [
    {
     "data": {},
     "metadata": {},
     "output_type": "display_data"
    },
    {
     "data": {
      "image/png": "[encoded data removed]",
      "text/plain": [
       "plot without title"
      ]
     },
     "metadata": {},
     "output_type": "display_data"
    }
   ],
   "source": [
    "ggpairs(data, lower = list(continuous = wrap(\"points\", alpha = 0.3)))"
   ]
  },
  {
   "cell_type": "code",
   "execution_count": 20,
   "metadata": {},
   "outputs": [
    {
     "data": {
      "text/plain": [
       "\n",
       "Call:\n",
       "lm(formula = y ~ 1, data = data)\n",
       "\n",
       "Residuals:\n",
       "    Min      1Q  Median      3Q     Max \n",
       "-3.5290 -0.6451 -0.0020  0.6622  3.0914 \n",
       "\n",
       "Coefficients:\n",
       "            Estimate Std. Error t value Pr(>|t|)  \n",
       "(Intercept) -0.04604    0.02220  -2.074   0.0382 *\n",
       "---\n",
       "Signif. codes:  0 '***' 0.001 '**' 0.01 '*' 0.05 '.' 0.1 ' ' 1\n",
       "\n",
       "Residual standard error: 0.9927 on 1999 degrees of freedom\n"
      ]
     },
     "metadata": {},
     "output_type": "display_data"
    }
   ],
   "source": [
    "mod_lin.base2 <- lm(data=data, y~1)\n",
    "summary(mod_lin.base2)"
   ]
  },
  {
   "cell_type": "code",
   "execution_count": 21,
   "metadata": {},
   "outputs": [
    {
     "data": {
      "text/plain": [
       "\n",
       "Call:\n",
       "lm(formula = y ~ ., data = data)\n",
       "\n",
       "Residuals:\n",
       "     Min       1Q   Median       3Q      Max \n",
       "-1.71298 -0.34173  0.00167  0.33250  1.58410 \n",
       "\n",
       "Coefficients:\n",
       "             Estimate Std. Error t value Pr(>|t|)    \n",
       "(Intercept)  0.005473   0.011111   0.493    0.622    \n",
       "x1           0.243901   0.014449  16.880   <2e-16 ***\n",
       "x2           0.241608   0.014503  16.659   <2e-16 ***\n",
       "x3           0.256227   0.014462  17.717   <2e-16 ***\n",
       "x4          -0.008215   0.010877  -0.755    0.450    \n",
       "x5           0.001349   0.011024   0.122    0.903    \n",
       "x6           0.002145   0.010972   0.195    0.845    \n",
       "---\n",
       "Signif. codes:  0 '***' 0.001 '**' 0.01 '*' 0.05 '.' 0.1 ' ' 1\n",
       "\n",
       "Residual standard error: 0.4958 on 1993 degrees of freedom\n",
       "Multiple R-squared:  0.7513,\tAdjusted R-squared:  0.7505 \n",
       "F-statistic:  1003 on 6 and 1993 DF,  p-value: < 2.2e-16\n"
      ]
     },
     "metadata": {},
     "output_type": "display_data"
    }
   ],
   "source": [
    "mod_lin.todo2 <- lm(data=data, y~.)\n",
    "summary(mod_lin.todo2)"
   ]
  },
  {
   "cell_type": "code",
   "execution_count": 22,
   "metadata": {},
   "outputs": [
    {
     "name": "stdout",
     "output_type": "stream",
     "text": [
      "Start:  AIC=-28.29\n",
      "y ~ 1\n",
      "\n",
      "       Df Sum of Sq     RSS      AIC\n",
      "+ x6    1   1364.40  605.53 -2385.58\n",
      "+ x3    1    983.10  986.83 -1408.80\n",
      "+ x2    1    981.30  988.64 -1405.15\n",
      "+ x1    1    946.67 1023.27 -1336.29\n",
      "<none>              1969.94   -28.29\n",
      "+ x4    1      0.26 1969.68   -26.56\n",
      "+ x5    1      0.12 1969.82   -26.41\n",
      "\n",
      "Step:  AIC=-2385.58\n",
      "y ~ x6\n",
      "\n",
      "       Df Sum of Sq     RSS      AIC\n",
      "+ x3    1     18.08  587.46 -2444.20\n",
      "+ x2    1     15.17  590.37 -2434.32\n",
      "+ x1    1     12.43  593.11 -2425.06\n",
      "<none>               605.53 -2385.58\n",
      "+ x5    1      0.04  605.50 -2383.71\n",
      "+ x4    1      0.02  605.51 -2383.66\n",
      "- x6    1   1364.40 1969.94   -28.29\n",
      "\n",
      "Step:  AIC=-2444.2\n",
      "y ~ x6 + x3\n",
      "\n",
      "       Df Sum of Sq    RSS     AIC\n",
      "+ x1    1     29.25 558.21 -2544.3\n",
      "+ x2    1     27.38 560.08 -2537.6\n",
      "<none>              587.46 -2444.2\n",
      "+ x5    1      0.02 587.44 -2442.3\n",
      "+ x4    1      0.01 587.45 -2442.2\n",
      "- x3    1     18.08 605.53 -2385.6\n",
      "- x6    1    399.38 986.83 -1408.8\n",
      "\n",
      "Step:  AIC=-2544.32\n",
      "y ~ x6 + x3 + x1\n",
      "\n",
      "       Df Sum of Sq    RSS     AIC\n",
      "+ x2    1    68.114 490.10 -2802.6\n",
      "<none>              558.21 -2544.3\n",
      "+ x4    1     0.027 558.19 -2542.4\n",
      "+ x5    1     0.001 558.21 -2542.3\n",
      "- x1    1    29.245 587.46 -2444.2\n",
      "- x3    1    34.893 593.11 -2425.1\n",
      "- x6    1    86.205 644.42 -2259.1\n",
      "\n",
      "Step:  AIC=-2802.59\n",
      "y ~ x6 + x3 + x1 + x2\n",
      "\n",
      "       Df Sum of Sq    RSS     AIC\n",
      "- x6    1     0.011 490.11 -2804.6\n",
      "<none>              490.10 -2802.6\n",
      "+ x4    1     0.140 489.96 -2801.2\n",
      "+ x5    1     0.003 490.10 -2800.6\n",
      "- x2    1    68.114 558.21 -2544.3\n",
      "- x1    1    69.981 560.08 -2537.6\n",
      "- x3    1    77.157 567.26 -2512.2\n",
      "\n",
      "Step:  AIC=-2804.55\n",
      "y ~ x3 + x1 + x2\n",
      "\n",
      "       Df Sum of Sq    RSS     AIC\n",
      "<none>              490.11 -2804.6\n",
      "+ x4    1     0.141 489.97 -2803.1\n",
      "+ x6    1     0.011 490.10 -2802.6\n",
      "+ x5    1     0.004 490.11 -2802.6\n",
      "- x2    1   154.307 644.42 -2259.1\n",
      "- x1    1   171.694 661.80 -2205.9\n",
      "- x3    1   188.792 678.90 -2154.8\n"
     ]
    },
    {
     "data": {
      "text/plain": [
       "\n",
       "Call:\n",
       "lm(formula = y ~ x3 + x1 + x2, data = data)\n",
       "\n",
       "Coefficients:\n",
       "(Intercept)           x3           x1           x2  \n",
       "   0.005404     0.258468     0.245937     0.243590  \n"
      ]
     },
     "metadata": {},
     "output_type": "display_data"
    }
   ],
   "source": [
    "step(mod_lin.base2, direction = \"both\", scope = formula(mod_lin.todo2))"
   ]
  },
  {
   "cell_type": "markdown",
   "metadata": {},
   "source": [
    "## 3.2 Métodos de contracción"
   ]
  },
  {
   "cell_type": "markdown",
   "metadata": {},
   "source": [
    "A partir de estos métodos obtenemos estimadores de los parámetros penalizándolos tratando de contraerlos a cero. En ambos casos esto implica resolver un problema de minimzación sujeto a alguna restricción."
   ]
  },
  {
   "cell_type": "markdown",
   "metadata": {},
   "source": [
    "### 3.2.1 Regresión de Ridge"
   ]
  },
  {
   "cell_type": "markdown",
   "metadata": {},
   "source": [
    "En la regresión Ridge, resolvemos el siguiente problema:\n",
    "\n",
    "$$\n",
    "\\min\\limits_{\\beta} \\sum_{i=1}^{n}\\Big(y_i - \\beta_0 - \\sum_{j=1}^{p}\\beta_j x_{ij}\\Big)^2 sujeto \\ a \\sum_{j=1}^{p}\\beta^2_j \t\\leq s\n",
    "$$\n",
    "\n",
    "\n",
    "Es decir, obtenemos los estimadores de los parámetros minimizando la siguiente función:\n",
    "\n",
    "$$\n",
    "\\sum_{i=1}^{n}\\Big(y_i - \\beta_0 - \\sum_{j=1}^{p}\\beta_j x_{ij}\\Big)^2 + \\lambda \\sum_{j=1}^{p}\\beta^2_j = SCE + + \\lambda \\sum_{j=1}^{p}\\beta^2_j \n",
    "$$\n",
    "\n",
    ",donde $\\lambda$ es el parámetro \"tuneador\".\n",
    "\n",
    "__Ejemplo__\n",
    "\n",
    "Usemos la regresion Ridge en nuestro problema...\n"
   ]
  },
  {
   "cell_type": "code",
   "execution_count": 35,
   "metadata": {
    "scrolled": false
   },
   "outputs": [
    {
     "data": {
      "text/html": [
       "<table>\n",
       "<thead><tr><th></th><th scope=col>l_ext_bal</th><th scope=col>l_agr_va</th><th scope=col>l_ser_va</th><th scope=col>l_ind_va</th><th scope=col>l_edu_exp</th><th scope=col>l_rsdv_exp</th><th scope=col>l_researchers</th><th scope=col>l_h_tech_exp</th><th scope=col>l_bs_st_cost</th><th scope=col>l_nw_bs_dnst</th><th scope=col>l_employ</th><th scope=col>l_unemploy</th><th scope=col>in_classLower middle income</th><th scope=col>in_classUpper middle income</th><th scope=col>in_classHigh income</th></tr></thead>\n",
       "<tbody>\n",
       "\t<tr><th scope=row>BOL</th><td>4.628398   </td><td>2.6304490  </td><td>3.947583   </td><td>3.535437   </td><td>1.896119   </td><td>-1.3862944 </td><td>4.832146   </td><td> 2.40694511</td><td>4.65766775 </td><td>-0.84397007</td><td>4.230622   </td><td>1.444563   </td><td>1          </td><td>0          </td><td>0          </td></tr>\n",
       "\t<tr><th scope=row>ALB</th><td>4.354141   </td><td>3.0951250  </td><td>3.972930   </td><td>3.209633   </td><td>1.175573   </td><td>-2.1202635 </td><td>5.058409   </td><td> 0.40546511</td><td>3.35025490 </td><td>-0.09431068</td><td>3.858622   </td><td>2.707383   </td><td>0          </td><td>1          </td><td>0          </td></tr>\n",
       "\t<tr><th scope=row>DZA</th><td>4.711330   </td><td>2.2586332  </td><td>3.591542   </td><td>3.991573   </td><td>1.467874   </td><td>-1.6094379 </td><td>5.124678   </td><td>-0.03045921</td><td>2.52732737 </td><td>-0.77652879</td><td>3.590991   </td><td>2.730464   </td><td>0          </td><td>1          </td><td>0          </td></tr>\n",
       "\t<tr><th scope=row>ARG</th><td>4.644775   </td><td>2.0794415  </td><td>4.113820   </td><td>3.428164   </td><td>1.481605   </td><td>-0.7550226 </td><td>6.851756   </td><td> 2.05668455</td><td>2.55412172 </td><td>-0.63487827</td><td>3.992127   </td><td>2.343727   </td><td>0          </td><td>1          </td><td>0          </td></tr>\n",
       "\t<tr><th scope=row>AUS</th><td>4.593502   </td><td>1.0612565  </td><td>4.248352   </td><td>3.299903   </td><td>1.605430   </td><td> 0.7275486 </td><td>8.309118   </td><td> 2.57642176</td><td>0.07696104 </td><td> 2.37676449</td><td>4.112676   </td><td>1.706565   </td><td>0          </td><td>0          </td><td>1          </td></tr>\n",
       "\t<tr><th scope=row>AUT</th><td>4.635020   </td><td>0.4382549  </td><td>4.228875   </td><td>3.394844   </td><td>1.699279   </td><td> 0.9001613 </td><td>8.298768   </td><td> 2.60120711</td><td>1.45628673 </td><td>-0.47803580</td><td>4.039536   </td><td>1.625311   </td><td>0          </td><td>0          </td><td>1          </td></tr>\n",
       "</tbody>\n",
       "</table>\n"
      ],
      "text/latex": [
       "\\begin{tabular}{r|lllllllllllllll}\n",
       "  & l\\_ext\\_bal & l\\_agr\\_va & l\\_ser\\_va & l\\_ind\\_va & l\\_edu\\_exp & l\\_rsdv\\_exp & l\\_researchers & l\\_h\\_tech\\_exp & l\\_bs\\_st\\_cost & l\\_nw\\_bs\\_dnst & l\\_employ & l\\_unemploy & in\\_classLower middle income & in\\_classUpper middle income & in\\_classHigh income\\\\\n",
       "\\hline\n",
       "\tBOL & 4.628398    & 2.6304490   & 3.947583    & 3.535437    & 1.896119    & -1.3862944  & 4.832146    &  2.40694511 & 4.65766775  & -0.84397007 & 4.230622    & 1.444563    & 1           & 0           & 0          \\\\\n",
       "\tALB & 4.354141    & 3.0951250   & 3.972930    & 3.209633    & 1.175573    & -2.1202635  & 5.058409    &  0.40546511 & 3.35025490  & -0.09431068 & 3.858622    & 2.707383    & 0           & 1           & 0          \\\\\n",
       "\tDZA & 4.711330    & 2.2586332   & 3.591542    & 3.991573    & 1.467874    & -1.6094379  & 5.124678    & -0.03045921 & 2.52732737  & -0.77652879 & 3.590991    & 2.730464    & 0           & 1           & 0          \\\\\n",
       "\tARG & 4.644775    & 2.0794415   & 4.113820    & 3.428164    & 1.481605    & -0.7550226  & 6.851756    &  2.05668455 & 2.55412172  & -0.63487827 & 3.992127    & 2.343727    & 0           & 1           & 0          \\\\\n",
       "\tAUS & 4.593502    & 1.0612565   & 4.248352    & 3.299903    & 1.605430    &  0.7275486  & 8.309118    &  2.57642176 & 0.07696104  &  2.37676449 & 4.112676    & 1.706565    & 0           & 0           & 1          \\\\\n",
       "\tAUT & 4.635020    & 0.4382549   & 4.228875    & 3.394844    & 1.699279    &  0.9001613  & 8.298768    &  2.60120711 & 1.45628673  & -0.47803580 & 4.039536    & 1.625311    & 0           & 0           & 1          \\\\\n",
       "\\end{tabular}\n"
      ],
      "text/markdown": [
       "\n",
       "| <!--/--> | l_ext_bal | l_agr_va | l_ser_va | l_ind_va | l_edu_exp | l_rsdv_exp | l_researchers | l_h_tech_exp | l_bs_st_cost | l_nw_bs_dnst | l_employ | l_unemploy | in_classLower middle income | in_classUpper middle income | in_classHigh income | \n",
       "|---|---|---|---|---|---|\n",
       "| BOL | 4.628398    | 2.6304490   | 3.947583    | 3.535437    | 1.896119    | -1.3862944  | 4.832146    |  2.40694511 | 4.65766775  | -0.84397007 | 4.230622    | 1.444563    | 1           | 0           | 0           | \n",
       "| ALB | 4.354141    | 3.0951250   | 3.972930    | 3.209633    | 1.175573    | -2.1202635  | 5.058409    |  0.40546511 | 3.35025490  | -0.09431068 | 3.858622    | 2.707383    | 0           | 1           | 0           | \n",
       "| DZA | 4.711330    | 2.2586332   | 3.591542    | 3.991573    | 1.467874    | -1.6094379  | 5.124678    | -0.03045921 | 2.52732737  | -0.77652879 | 3.590991    | 2.730464    | 0           | 1           | 0           | \n",
       "| ARG | 4.644775    | 2.0794415   | 4.113820    | 3.428164    | 1.481605    | -0.7550226  | 6.851756    |  2.05668455 | 2.55412172  | -0.63487827 | 3.992127    | 2.343727    | 0           | 1           | 0           | \n",
       "| AUS | 4.593502    | 1.0612565   | 4.248352    | 3.299903    | 1.605430    |  0.7275486  | 8.309118    |  2.57642176 | 0.07696104  |  2.37676449 | 4.112676    | 1.706565    | 0           | 0           | 1           | \n",
       "| AUT | 4.635020    | 0.4382549   | 4.228875    | 3.394844    | 1.699279    |  0.9001613  | 8.298768    |  2.60120711 | 1.45628673  | -0.47803580 | 4.039536    | 1.625311    | 0           | 0           | 1           | \n",
       "\n",
       "\n"
      ],
      "text/plain": [
       "    l_ext_bal l_agr_va  l_ser_va l_ind_va l_edu_exp l_rsdv_exp l_researchers\n",
       "BOL 4.628398  2.6304490 3.947583 3.535437 1.896119  -1.3862944 4.832146     \n",
       "ALB 4.354141  3.0951250 3.972930 3.209633 1.175573  -2.1202635 5.058409     \n",
       "DZA 4.711330  2.2586332 3.591542 3.991573 1.467874  -1.6094379 5.124678     \n",
       "ARG 4.644775  2.0794415 4.113820 3.428164 1.481605  -0.7550226 6.851756     \n",
       "AUS 4.593502  1.0612565 4.248352 3.299903 1.605430   0.7275486 8.309118     \n",
       "AUT 4.635020  0.4382549 4.228875 3.394844 1.699279   0.9001613 8.298768     \n",
       "    l_h_tech_exp l_bs_st_cost l_nw_bs_dnst l_employ l_unemploy\n",
       "BOL  2.40694511  4.65766775   -0.84397007  4.230622 1.444563  \n",
       "ALB  0.40546511  3.35025490   -0.09431068  3.858622 2.707383  \n",
       "DZA -0.03045921  2.52732737   -0.77652879  3.590991 2.730464  \n",
       "ARG  2.05668455  2.55412172   -0.63487827  3.992127 2.343727  \n",
       "AUS  2.57642176  0.07696104    2.37676449  4.112676 1.706565  \n",
       "AUT  2.60120711  1.45628673   -0.47803580  4.039536 1.625311  \n",
       "    in_classLower middle income in_classUpper middle income in_classHigh income\n",
       "BOL 1                           0                           0                  \n",
       "ALB 0                           1                           0                  \n",
       "DZA 0                           1                           0                  \n",
       "ARG 0                           1                           0                  \n",
       "AUS 0                           0                           1                  \n",
       "AUT 0                           0                           1                  "
      ]
     },
     "metadata": {},
     "output_type": "display_data"
    }
   ],
   "source": [
    "# Antes...\n",
    "Y <- datos_paises_t$l_gni_pc\n",
    "X <- model.matrix(l_gni_pc~., data = datos_paises_t)[,-1]\n",
    "head(X)"
   ]
  },
  {
   "cell_type": "code",
   "execution_count": 25,
   "metadata": {},
   "outputs": [
    {
     "data": {
      "image/png": "[encoded data removed]",
      "text/plain": [
       "plot without title"
      ]
     },
     "metadata": {},
     "output_type": "display_data"
    }
   ],
   "source": [
    "# Ahora si...\n",
    "reg.ridge = glmnet(x = X,y = Y,alpha=0)\n",
    "plot(reg.ridge,xvar=\"lambda\",label=TRUE)"
   ]
  },
  {
   "cell_type": "code",
   "execution_count": 26,
   "metadata": {
    "scrolled": true
   },
   "outputs": [
    {
     "data": {
      "image/png": "[encoded data removed]",
      "text/plain": [
       "plot without title"
      ]
     },
     "metadata": {},
     "output_type": "display_data"
    }
   ],
   "source": [
    "set.seed(12345)\n",
    "cv.reg.ridge <- cv.glmnet(x=X,y=Y,alpha=0)\n",
    "plot(cv.reg.ridge)"
   ]
  },
  {
   "cell_type": "code",
   "execution_count": 29,
   "metadata": {},
   "outputs": [
    {
     "data": {
      "text/html": [
       "-1.48118038857627"
      ],
      "text/latex": [
       "-1.48118038857627"
      ],
      "text/markdown": [
       "-1.48118038857627"
      ],
      "text/plain": [
       "[1] -1.48118"
      ]
     },
     "metadata": {},
     "output_type": "display_data"
    },
    {
     "data": {
      "text/html": [
       "-2.31848405797612"
      ],
      "text/latex": [
       "-2.31848405797612"
      ],
      "text/markdown": [
       "-2.31848405797612"
      ],
      "text/plain": [
       "[1] -2.318484"
      ]
     },
     "metadata": {},
     "output_type": "display_data"
    }
   ],
   "source": [
    "log(cv.reg.ridge$lambda.1se)\n",
    "log(cv.reg.ridge$lambda.min)"
   ]
  },
  {
   "cell_type": "code",
   "execution_count": 298,
   "metadata": {
    "scrolled": true
   },
   "outputs": [
    {
     "data": {
      "text/plain": [
       "16 x 1 sparse Matrix of class \"dgCMatrix\"\n",
       "                                       1\n",
       "(Intercept)                  0.359122048\n",
       "l_ext_bal                    1.587232948\n",
       "l_agr_va                    -0.150323638\n",
       "l_ser_va                     0.603788939\n",
       "l_ind_va                     0.398842522\n",
       "l_edu_exp                   -0.005878097\n",
       "l_rsdv_exp                   0.005629499\n",
       "l_researchers                0.108938300\n",
       "l_h_tech_exp                 0.031753333\n",
       "l_bs_st_cost                -0.077909779\n",
       "l_nw_bs_dnst                 0.058526940\n",
       "l_employ                    -0.606503208\n",
       "l_unemploy                  -0.053806359\n",
       "in_classLower middle income -0.054755936\n",
       "in_classUpper middle income  0.207511499\n",
       "in_classHigh income          0.486194220"
      ]
     },
     "metadata": {},
     "output_type": "display_data"
    }
   ],
   "source": [
    "coef(cv.reg.ridge, s = \"lambda.1se\", exact = FALSE)"
   ]
  },
  {
   "cell_type": "code",
   "execution_count": 299,
   "metadata": {},
   "outputs": [
    {
     "data": {
      "text/html": [
       "3.81960481715759"
      ],
      "text/latex": [
       "3.81960481715759"
      ],
      "text/markdown": [
       "3.81960481715759"
      ],
      "text/plain": [
       "[1] 3.819605"
      ]
     },
     "metadata": {},
     "output_type": "display_data"
    }
   ],
   "source": [
    "SCE.ridge <- sum((predict(cv.lasso, s = \"lambda.1se\", newx = X)-Y)^2)\n",
    "SCE.ridge"
   ]
  },
  {
   "cell_type": "code",
   "execution_count": 300,
   "metadata": {},
   "outputs": [
    {
     "data": {
      "text/html": [
       "-223.53"
      ],
      "text/latex": [
       "-223.53"
      ],
      "text/markdown": [
       "-223.53"
      ],
      "text/plain": [
       "[1] -223.53"
      ]
     },
     "metadata": {},
     "output_type": "display_data"
    }
   ],
   "source": [
    "AIC.ridge <- 2*16 + nrow(datos_paises_t)*log(SCE.ridge/nrow(datos_paises_t))\n",
    "round(AIC.ridge,2)"
   ]
  },
  {
   "cell_type": "markdown",
   "metadata": {},
   "source": [
    "### 3.2.2 LASSO"
   ]
  },
  {
   "cell_type": "markdown",
   "metadata": {},
   "source": [
    "Al usar LASSO (Least Absolute Shrinkage and Selection Operator), resolvemos el siguiente problema:\n",
    "\n",
    "$$\n",
    "\\min\\limits_{\\beta} \\sum_{i=1}^{n}\\Big(y_i - \\beta_0 - \\sum_{j=1}^{p}\\beta_j x_{ij}\\Big)^2 sujeto \\ a \\sum_{j=1}^{p}|{\\beta_j}| \t\\leq s\n",
    "$$\n",
    "\n",
    "\n",
    "Entoces, obtenemos los estimadores de los parámetros minimizando la siguiente función:\n",
    "\n",
    "$$\n",
    "\\sum_{i=1}^{n}\\Big(y_i - \\beta_0 - \\sum_{j=1}^{p}\\beta_j x_{ij}\\Big)^2 + \\lambda \\sum_{j=1}^{p}|{\\beta_j}| = SCE + \\lambda \\sum_{j=1}^{p}|\\beta_j|\n",
    "$$\n",
    "\n",
    "__Ejemplo__\n",
    "\n",
    "Usando LASSO en nuestro promebla tenemos..."
   ]
  },
  {
   "cell_type": "code",
   "execution_count": 30,
   "metadata": {},
   "outputs": [
    {
     "data": {
      "image/png": "[encoded data removed]",
      "text/plain": [
       "plot without title"
      ]
     },
     "metadata": {},
     "output_type": "display_data"
    }
   ],
   "source": [
    "lasso = glmnet(x = X,y = Y,alpha=1)\n",
    "plot(lasso,xvar=\"lambda\",label=TRUE)"
   ]
  },
  {
   "cell_type": "code",
   "execution_count": 302,
   "metadata": {},
   "outputs": [
    {
     "data": {
      "image/png": "[encoded data removed]",
      "text/plain": [
       "plot without title"
      ]
     },
     "metadata": {},
     "output_type": "display_data"
    }
   ],
   "source": [
    "set.seed(12345)\n",
    "cv.lasso <- cv.glmnet(x=X,y=Y,alpha=1)\n",
    "plot(cv.lasso)"
   ]
  },
  {
   "cell_type": "code",
   "execution_count": 303,
   "metadata": {},
   "outputs": [
    {
     "data": {
      "text/plain": [
       "16 x 1 sparse Matrix of class \"dgCMatrix\"\n",
       "                                      1\n",
       "(Intercept)                  1.00892919\n",
       "l_ext_bal                    1.33549246\n",
       "l_agr_va                    -0.16725212\n",
       "l_ser_va                     0.36151676\n",
       "l_ind_va                     0.26378619\n",
       "l_edu_exp                    .         \n",
       "l_rsdv_exp                   .         \n",
       "l_researchers                0.13101651\n",
       "l_h_tech_exp                 .         \n",
       "l_bs_st_cost                -0.04908644\n",
       "l_nw_bs_dnst                 0.00845123\n",
       "l_employ                    -0.29282336\n",
       "l_unemploy                  -0.03119507\n",
       "in_classLower middle income  0.32658939\n",
       "in_classUpper middle income  0.80674571\n",
       "in_classHigh income          1.15337124"
      ]
     },
     "metadata": {},
     "output_type": "display_data"
    }
   ],
   "source": [
    "coef(cv.lasso, s = \"lambda.1se\", xact = T)"
   ]
  },
  {
   "cell_type": "code",
   "execution_count": 304,
   "metadata": {},
   "outputs": [
    {
     "data": {
      "text/html": [
       "3.81960481715759"
      ],
      "text/latex": [
       "3.81960481715759"
      ],
      "text/markdown": [
       "3.81960481715759"
      ],
      "text/plain": [
       "[1] 3.819605"
      ]
     },
     "metadata": {},
     "output_type": "display_data"
    }
   ],
   "source": [
    "SCE.lasso <- sum((predict(cv.lasso, s = \"lambda.1se\", newx = X)-Y)^2)\n",
    "SCE.lasso"
   ]
  },
  {
   "cell_type": "code",
   "execution_count": 307,
   "metadata": {},
   "outputs": [
    {
     "data": {
      "text/html": [
       "-229.53"
      ],
      "text/latex": [
       "-229.53"
      ],
      "text/markdown": [
       "-229.53"
      ],
      "text/plain": [
       "[1] -229.53"
      ]
     },
     "metadata": {},
     "output_type": "display_data"
    }
   ],
   "source": [
    "AIC.lasso <- 2*13 + nrow(datos_paises_t)*log(SCE.lasso/nrow(datos_paises_t))\n",
    "round(AIC.lasso,2)"
   ]
  },
  {
   "cell_type": "markdown",
   "metadata": {},
   "source": [
    "# 4 Referencias\n",
    "\n",
    "__Libros y Papers:__\n",
    "* G. James, D. Witten, T. Hastie, R. Tibshirani (2013). An Introduction to Statistical Learning. 205-227.\n",
    "* Hastie, Tibshirani, Friedman (2008). The Elements of Statistical Machine Learning. 57 - 73\n",
    "* Ana González Vidal (2015). Selección de variables: Una revisión de métodos existentes.\n",
    "* Tibshirani, R. (1996). Regression Shrinkage and Selection via the Lasso. Journal of the Royal Statistical Society. Series B (Methodological), 58(1), 267-288.\n",
    "* Valeria Fonti (2017). Feature Selection using LASSO. VU Amsterdam.\n",
    "\n",
    "__Páginas Web:__\n",
    "* http://statweb.stanford.edu/~tibs/lasso.html\n",
    "* https://stats.stackexchange.com/questions/17251/what-is-the-lasso-in-regression-analysis\n",
    "* https://towardsdatascience.com/l1-and-l2-regularization-methods-ce25e7fc831c\n",
    "* https://stats.stackexchange.com/questions/7935/what-are-disadvantages-of-using-the-lasso-for-variable-selection-for-regression (Ese Peter es un loquillo)\n",
    "* https://web.stanford.edu/~hastie/glmnet/glmnet_alpha.html\n",
    "\n",
    "\n",
    "__Videos:__\n",
    "* https://www.youtube.com/watch?v=OYEII--K_k4 (Backward Elimination) \n",
    "* https://www.youtube.com/watch?v=0aTtMJO-pE4 (Forward Selection)   \n",
    "* https://www.youtube.com/watch?v=ejR8LnQziPY (Stepwise)           \n"
   ]
  },
  {
   "cell_type": "code",
   "execution_count": null,
   "metadata": {},
   "outputs": [],
   "source": []
  }
 ],
 "metadata": {
  "kernelspec": {
   "display_name": "R",
   "language": "R",
   "name": "ir"
  },
  "language_info": {
   "codemirror_mode": "r",
   "file_extension": ".r",
   "mimetype": "text/x-r-source",
   "name": "R",
   "pygments_lexer": "r",
   "version": "3.4.3"
  }
 },
 "nbformat": 4,
 "nbformat_minor": 2
}
